{
  "nbformat": 4,
  "nbformat_minor": 0,
  "metadata": {
    "colab": {
      "name": "VAE.ipynb",
      "provenance": [],
      "collapsed_sections": []
    },
    "kernelspec": {
      "name": "python3",
      "display_name": "Python 3"
    },
    "language_info": {
      "name": "python"
    },
    "accelerator": "GPU",
    "gpuClass": "standard"
  },
  "cells": [
    {
      "cell_type": "markdown",
      "source": [
        "# VAE \n",
        "- ### VAE(Variational)とは?\n",
        "####  ディープラーニングを使用した生成モデルの一つです。具体的には学習したデータに**近似**したデータを生み出せます。\n"
      ],
      "metadata": {
        "id": "d8vJjC7LuLpG"
      }
    },
    {
      "cell_type": "markdown",
      "source": [
        "###1. 必要なライブラリのインストール&インポート\n",
        "\n",
        "\n"
      ],
      "metadata": {
        "id": "oAFId5sa18pU"
      }
    },
    {
      "cell_type": "code",
      "source": [
        "!pip install torchinfo"
      ],
      "metadata": {
        "colab": {
          "base_uri": "https://localhost:8080/"
        },
        "id": "H0jkRyTnt-Xl",
        "outputId": "c16ef0da-020b-46c4-a892-bf8c95e8f5dc"
      },
      "execution_count": null,
      "outputs": [
        {
          "output_type": "stream",
          "name": "stdout",
          "text": [
            "Looking in indexes: https://pypi.org/simple, https://us-python.pkg.dev/colab-wheels/public/simple/\n",
            "Collecting torchinfo\n",
            "  Downloading torchinfo-1.7.0-py3-none-any.whl (22 kB)\n",
            "Installing collected packages: torchinfo\n",
            "Successfully installed torchinfo-1.7.0\n"
          ]
        }
      ]
    },
    {
      "cell_type": "code",
      "source": [
        "import os\n",
        "import cv2\n",
        "import torch\n",
        "import datetime\n",
        "from torch.autograd import Variable\n",
        "import numpy as np\n",
        "import torch.nn.functional as F\n",
        "import torchvision\n",
        "from torchvision import transforms\n",
        "import torch.optim as optim\n",
        "from torch import nn\n",
        "import matplotlib.pyplot as plt\n",
        "from torchinfo import summary\n",
        "\n",
        "from torch.utils.data import Dataset\n",
        "from pathlib import Path\n",
        "from typing import List, Tuple\n",
        "\n",
        "from tqdm.notebook import tqdm\n",
        "\n",
        "device = torch.device('cuda:0' if torch.cuda.is_available() else 'cpu')\n",
        "print(device)"
      ],
      "metadata": {
        "colab": {
          "base_uri": "https://localhost:8080/"
        },
        "id": "HAuMKJphtnXz",
        "outputId": "24ae7df6-140c-45aa-f362-d7fd356e9545"
      },
      "execution_count": null,
      "outputs": [
        {
          "output_type": "stream",
          "name": "stdout",
          "text": [
            "cuda:0\n"
          ]
        }
      ]
    },
    {
      "cell_type": "markdown",
      "source": [
        "###2. 学習,テストデータ読み出し"
      ],
      "metadata": {
        "id": "8zI13C9u3EMB"
      }
    },
    {
      "cell_type": "code",
      "source": [
        "from pathlib import Path\n",
        "\n",
        "from torch.utils.data import DataLoader, Dataset\n",
        "from torchvision import transforms\n",
        "from PIL import Image\n",
        "\n",
        "class ImageFolder(Dataset):\n",
        "    IMG_EXTENSIONS = [\".jpg\", \".jpeg\", \".png\", \".bmp\"]\n",
        "\n",
        "    def __init__(self, img_dir, transform=None):\n",
        "        # 画像ファイルのパス一覧を取得する。\n",
        "        self.img_paths = self._get_img_paths(img_dir)\n",
        "        self.transform = transform\n",
        "\n",
        "    def __getitem__(self, index):\n",
        "        path = self.img_paths[index]\n",
        "        \n",
        "        # 画像を読み込む。\n",
        "        img = Image.open(path)\n",
        "\n",
        "        if self.transform is not None:\n",
        "            # 前処理がある場合は行う。\n",
        "            img = self.transform(img)\n",
        "\n",
        "        return img\n",
        "\n",
        "    def _get_img_paths(self, img_dir):\n",
        "        \"\"\"指定したディレクトリ内の画像ファイルのパス一覧を取得する。\n",
        "        \"\"\"\n",
        "        img_dir = Path(img_dir)\n",
        "        img_paths = [\n",
        "            p for p in img_dir.iterdir() if p.suffix in ImageFolder.IMG_EXTENSIONS\n",
        "        ]\n",
        "        img_paths = sorted(img_paths)\n",
        "\n",
        "        return img_paths\n",
        "\n",
        "    def __len__(self):\n",
        "        \"\"\"ディレクトリ内の画像ファイルの数を返す。\n",
        "        \"\"\"\n",
        "        return len(self.img_paths)"
      ],
      "metadata": {
        "id": "fh1rpPaH2url"
      },
      "execution_count": null,
      "outputs": []
    },
    {
      "cell_type": "code",
      "source": [
        "batch_size = 1000\n",
        "\n",
        "transform = transforms.Compose([transforms.ToTensor(),transforms.Grayscale()])\n",
        "\n",
        "train = ImageFolder(\"train\", transform) \n",
        "test = ImageFolder(\"test\", transform)\n",
        "\n",
        "train_loader = torch.utils.data.DataLoader(dataset=train, batch_size=batch_size, shuffle=True)\n",
        "test_loader = torch.utils.data.DataLoader(dataset=test, batch_size=batch_size, shuffle=False)"
      ],
      "metadata": {
        "id": "N1ghbseh3NsF"
      },
      "execution_count": null,
      "outputs": []
    },
    {
      "cell_type": "markdown",
      "source": [
        "###3. VAEの学習モデル"
      ],
      "metadata": {
        "id": "vt2QPwI72bF6"
      }
    },
    {
      "cell_type": "code",
      "source": [
        "class VAE(nn.Module):\n",
        "  \n",
        "    def __init__(self):\n",
        "        super(VAE, self).__init__()\n",
        "        \n",
        "        self.conv1 = nn.Conv2d(1, 48, 3)\n",
        "        self.conv2 = nn.Conv2d(48, 32, 3)\n",
        "        self.conv5 = nn.Conv2d(32, 16, 3)\n",
        "        self.max_pool = nn.MaxPool2d(kernel_size = 2, stride = 2)\n",
        "        self.fc1_mu = nn.Linear(21 * 21 * 16, 20)\n",
        "        self.fc1_sig = nn.Linear(21 * 21 * 16, 20)\n",
        "        self.fc2 = nn.Linear(20, 21 * 21 * 16)\n",
        "        self.up_sample = nn.UpsamplingNearest2d(scale_factor=2)\n",
        "        self.conv6 = nn.ConvTranspose2d(16, 32, 3)\n",
        "        self.conv3 = nn.ConvTranspose2d(32, 48, 3)\n",
        "        self.conv4 = nn.ConvTranspose2d(48, 1, 3)\n",
        "         \n",
        "    def encode(self,x):\n",
        "        a1 = F.relu(self.conv1(x))\n",
        "        #print(a1.shape)\n",
        "        a2 = F.relu(self.conv2(a1))\n",
        "        #print(a2.shape)\n",
        "        a3 = F.relu(self.conv5(a2))\n",
        "        #print(a3.shape)\n",
        "        \n",
        "        mx_poold = self.max_pool(a3)\n",
        "        #print(mx_poold.shape)\n",
        "        a_reshaped = mx_poold.reshape(-1 , 21 * 21 * 16)\n",
        "        #print(a_reshaped.shape)\n",
        "        a_mu = self.fc1_mu(a_reshaped)\n",
        "        a_logvar = self.fc1_sig(a_reshaped)\n",
        "        #print(a_mu.shape)\n",
        "        return a_mu, a_logvar\n",
        "  \n",
        "    def decode(self,z):\n",
        "        a3 = F.relu(self.fc2(z))\n",
        "        #print(a3.shape)\n",
        "        a3 = a3.reshape(-1, 16, 21, 21)\n",
        "        #print(a3.shape)\n",
        "        a3_upsample = self.up_sample(a3)\n",
        "        #print(a3_upsample.shape)\n",
        "        a4 = F.relu(self.conv6(a3_upsample))\n",
        "        #print(a4.shape)\n",
        "        a5 = F.relu(self.conv3(a4))\n",
        "        #print(a5.shape)\n",
        "        a6 = torch.sigmoid(self.conv4(a5))\n",
        "        return a6\n",
        "  \n",
        "    def reparameterize(self, mu, logvar):\n",
        "        std = torch.exp(0.5*logvar)\n",
        "        eps = torch.randn_like(std)\n",
        "        return eps.mul(std).add_(mu)\n",
        "  \n",
        "    def forward(self,x):\n",
        "        mu, logvar = self.encode(x)\n",
        "        z = self.reparameterize(mu, logvar)\n",
        "        return self.decode(z), mu, logvar\n",
        "    "
      ],
      "metadata": {
        "id": "a_Ci0Su9tqrx"
      },
      "execution_count": null,
      "outputs": []
    },
    {
      "cell_type": "code",
      "source": [
        "model = VAE()\n",
        "model = model.to(device)\n",
        "optimizer = optim.Adam(model.parameters(), lr=1e-3)\n",
        "\n",
        "summary(model,input_size=(10, 1, 48, 48),col_names=[\"output_size\", \"num_params\"])"
      ],
      "metadata": {
        "id": "Yf-bdL4P3NoW"
      },
      "execution_count": null,
      "outputs": []
    },
    {
      "cell_type": "markdown",
      "source": [
        "###4. 損失関数"
      ],
      "metadata": {
        "id": "wG1qrLKg4yyF"
      }
    },
    {
      "cell_type": "code",
      "source": [
        "def loss_function(recon_x, x, mu, logvar):\n",
        "    BCE = F.binary_cross_entropy(recon_x, x, reduction='sum')\n",
        "\n",
        "    KLD = -0.5 * torch.sum(1 + logvar - mu.pow(2) - logvar.exp())\n",
        "\n",
        "    return BCE + KLD"
      ],
      "metadata": {
        "id": "2kZCRjQ72ulT"
      },
      "execution_count": null,
      "outputs": []
    },
    {
      "cell_type": "markdown",
      "source": [
        "###5. VAE学習"
      ],
      "metadata": {
        "id": "6d5nvr3h5dqr"
      }
    },
    {
      "cell_type": "code",
      "source": [
        "num_epochs = 2000 #学習回数\n",
        "print_per = 100\n",
        "model.train()\n",
        "\n",
        "for epoch in range(num_epochs):\n",
        "    train_loss = 0\n",
        "    print_loss = 0\n",
        "    loss_record = []\n",
        "    \n",
        "    t_delta = datetime.timedelta(hours=9)\n",
        "    JST = datetime.timezone(t_delta, 'JST')\n",
        "    now = datetime.datetime.now(JST)\n",
        "    d = now.strftime('%Y%m%d%H%M%S')\n",
        "    \n",
        "    for i, (images) in enumerate(train_loader):\n",
        "        \n",
        "        optimizer.zero_grad()\n",
        "        images = images.to(device)\n",
        "        \n",
        "        recon_batch, mu, logvar = model(images)\n",
        "        loss = loss_function(recon_batch, images, mu, logvar)\n",
        "        loss.backward()\n",
        "        train_loss += loss.item()\n",
        "        print_loss += loss.item()\n",
        "        optimizer.step()\n",
        "        if (i%print_per == 0):\n",
        "            print(\"Epoch : {} , Minibatch : {} Loss = {:.4f}\".format(epoch+1, i, print_loss))\n",
        "            loss_record.append(print_loss)\n",
        "            print_loss = 0\n",
        "    \n",
        "    if epoch%10 == 0:\n",
        "        torch.save(model.state_dict(), \"model/{}_{}_.pth\".format(d,epoch))\n",
        "        \n",
        "    print(\"Epoch {} : Loss = ({:.4f}) \".format(epoch+1, train_loss))"
      ],
      "metadata": {
        "id": "KDM_Ij6s5dI_"
      },
      "execution_count": null,
      "outputs": []
    },
    {
      "cell_type": "markdown",
      "source": [
        "###6. 学習,テストデータから画像生成"
      ],
      "metadata": {
        "id": "031WxsM26GkA"
      }
    },
    {
      "cell_type": "code",
      "source": [
        "for i, (img) in tqdm(enumerate(test_loader)):\n",
        "    img = img.to(device)\n",
        "    \n",
        "for i, (images) in tqdm(enumerate(train_loader)):\n",
        "    images = images.to(device)\n",
        "    if i == 1:\n",
        "        break"
      ],
      "metadata": {
        "id": "LhYSq2446Ev1"
      },
      "execution_count": null,
      "outputs": []
    },
    {
      "cell_type": "code",
      "source": [
        "fig=plt.figure(figsize=(12, 12))\n",
        "\n",
        "columns = 1\n",
        "rows = 3\n",
        "\n",
        "for i,test in enumerate(range(10)):\n",
        "    image1 = images[0].reshape(1, 48, 48)\n",
        "\n",
        "    print(images[0].shape)\n",
        "    \n",
        "    fig.add_subplot(rows, columns, 1)\n",
        "    plt.imshow(images.data[test].cpu().numpy().reshape(48, 48), cmap='gray')\n",
        "    #plt.show(block=True)\n",
        "    \n",
        "    fig.add_subplot(rows, columns, 2)    \n",
        "    plt.imshow((model(images)[0].data[test].cpu().numpy().reshape(48, 48)), cmap='gray')\n",
        "    #plt.show(block=True)\n",
        "    \n",
        "    a = model(images)[0].data[test].cpu().numpy().reshape(48, 48)\n",
        "    b = (images.data[test].cpu().numpy().reshape(48, 48))\n",
        "    d = b-a\n",
        "    \n",
        "    fig.add_subplot(rows, columns, 3)\n",
        "    plt.imshow(d, cmap='gray')\n",
        "\n",
        "    plt.savefig(\"nomal_{}\".format(i))\n",
        "    \n",
        "plt.show(block=True)\n",
        "    "
      ],
      "metadata": {
        "id": "TJnyHSZ12uh8"
      },
      "execution_count": null,
      "outputs": []
    }
  ]
}