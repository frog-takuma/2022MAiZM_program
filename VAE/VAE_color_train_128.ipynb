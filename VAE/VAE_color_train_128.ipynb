{
 "cells": [
  {
   "cell_type": "code",
   "execution_count": null,
   "metadata": {
    "colab": {
     "base_uri": "https://localhost:8080/"
    },
    "executionInfo": {
     "elapsed": 4039,
     "status": "ok",
     "timestamp": 1657845371706,
     "user": {
      "displayName": "mower草刈り機",
      "userId": "09626583737451195202"
     },
     "user_tz": -540
    },
    "id": "0BU-Bold6udu",
    "outputId": "8ec61d49-b4b4-4287-90d8-041a5fed0f55"
   },
   "outputs": [],
   "source": [
    "import pandas as pd\n",
    "import torch\n",
    "import numpy as np\n",
    "from PIL import Image\n",
    "import glob\n",
    "import os\n",
    "import matplotlib.pyplot as plt\n",
    "\n",
    "import datetime\n",
    "\n",
    "import torch.nn.functional as F\n",
    "import torch.optim as optim\n",
    "from torch import nn\n",
    "from torchvision import transforms\n",
    "from torch.utils.data import DataLoader, Dataset\n",
    "#from torchsummary import summary\n",
    "\n",
    "from tqdm.notebook import tqdm\n",
    "\n",
    "device = torch.device('cuda:0' if torch.cuda.is_available() else 'cpu')\n",
    "print(device)\n",
    "\n",
    "print(torch.__version__)\n",
    "headder = \"/home/kashihara/workspace/2022MAiZM/2022MAiZM_data\""
   ]
  },
  {
   "cell_type": "code",
   "execution_count": null,
   "metadata": {},
   "outputs": [],
   "source": [
    "from alibi_detect.utils.visualize import plot_instance_score, plot_feature_outlier_image"
   ]
  },
  {
   "cell_type": "code",
   "execution_count": null,
   "metadata": {
    "executionInfo": {
     "elapsed": 1333,
     "status": "ok",
     "timestamp": 1657845373013,
     "user": {
      "displayName": "mower草刈り機",
      "userId": "09626583737451195202"
     },
     "user_tz": -540
    },
    "id": "0tCqFJaK6_IC"
   },
   "outputs": [],
   "source": [
    "class my_dataset(Dataset):\n",
    "    def __init__(self, img_path,transform=None):\n",
    "        \n",
    "        image_paths = glob.glob(img_path + '/*.jpg')\n",
    "        labels = os.path.basename(img_path)\n",
    "\n",
    "        self.image_paths = image_paths\n",
    "        self.labels = 0 \n",
    "        self.transform = transform\n",
    "\n",
    "    def __getitem__(self, index):\n",
    "        path = self.image_paths[index] \n",
    "        #画像読み込み。\n",
    "        img = Image.open(path)\n",
    "        #transform事前処理実施\n",
    "        if self.transform is not None:\n",
    "            img = self.transform(img)\n",
    "\n",
    "        label=self.labels\n",
    "        image_path=self.image_paths[index]\n",
    "        return img,label\n",
    "\n",
    "    def __len__(self):\n",
    "        return len(self.image_paths)\n",
    "\n",
    "if __name__ == '__main__':\n",
    "    transform = transforms.Compose([transforms.CenterCrop(1080),transforms.Resize((128,128)), transforms.ToTensor()])\n",
    "    #データセット作成\n",
    "    dataset = my_dataset(\"{}/data/train\".format(headder),transform)\n",
    "    #dataloader化\n",
    "    dataloader = DataLoader(dataset, batch_size=8)\n",
    "\n",
    "    test_dataset = my_dataset(\"{}/data/test\".format(headder),transform)\n",
    "    #dataloader化\n",
    "    test_dataloader = DataLoader(test_dataset, batch_size=8)\n"
   ]
  },
  {
   "cell_type": "code",
   "execution_count": null,
   "metadata": {},
   "outputs": [],
   "source": [
    "for i in test_dataloader:\n",
    "    print(i[0].shape)\n",
    "    break"
   ]
  },
  {
   "cell_type": "code",
   "execution_count": null,
   "metadata": {
    "colab": {
     "base_uri": "https://localhost:8080/",
     "height": 408
    },
    "executionInfo": {
     "elapsed": 8657,
     "status": "ok",
     "timestamp": 1657845381646,
     "user": {
      "displayName": "mower草刈り機",
      "userId": "09626583737451195202"
     },
     "user_tz": -540
    },
    "id": "XJIfU4OSDZpL",
    "outputId": "6f27b929-126e-4f2c-a36b-666a5de260fe"
   },
   "outputs": [],
   "source": [
    "\n",
    "for a in dataloader:\n",
    "    fig=plt.figure(figsize=(24, 12))\n",
    "    for num,img in enumerate(a[0]):\n",
    "        fig.add_subplot(1,len(a[0]), num+1)\n",
    "        plt.imshow(img.cpu().numpy().swapaxes(0,2))\n",
    "        \n",
    "    plt.show()\n",
    "\n",
    "\n",
    "for b in test_dataloader:\n",
    "    fig=plt.figure(figsize=(24, 12))\n",
    "\n",
    "    for num,img in enumerate(b[0]):\n",
    "        fig.add_subplot(1,len(b[0]), num+1)\n",
    "        plt.imshow(img.cpu().numpy().swapaxes(0,2))\n",
    "    plt.show()"
   ]
  },
  {
   "cell_type": "code",
   "execution_count": null,
   "metadata": {
    "executionInfo": {
     "elapsed": 27,
     "status": "ok",
     "timestamp": 1657845381646,
     "user": {
      "displayName": "mower草刈り機",
      "userId": "09626583737451195202"
     },
     "user_tz": -540
    },
    "id": "8JGaJW-LfRwF"
   },
   "outputs": [],
   "source": [
    "class Net(nn.Module):\n",
    "\n",
    "    def __init__(self):\n",
    "        super(Net, self).__init__()\n",
    "\n",
    "        self.conv1 = nn.Conv2d(3, 32, 5, stride=2, padding=2)\n",
    "        self.conv2 = nn.Conv2d(32, 16, 5, stride=2, padding=2)\n",
    "        self.conv3 = nn.Conv2d(16,  8, 5, stride=2, padding=2)\n",
    "\n",
    "        self.max_pool = nn.MaxPool2d(kernel_size = 2, stride = 2)\n",
    "\n",
    "        self.fc1_mu = nn.Linear(8 * 8 * 8 , 80)\n",
    "        self.fc1_sig = nn.Linear(8 * 8 * 8 , 80)\n",
    "        self.fc2 = nn.Linear(80, 8 * 8 * 8 )\n",
    "\n",
    "        self.up_sample = nn.UpsamplingNearest2d(scale_factor=2)\n",
    "\n",
    "        self.conv4 = nn.ConvTranspose2d(8, 32, 6, stride=2, padding=2)\n",
    "        self.conv5 = nn.ConvTranspose2d(32, 16, 6, stride=2, padding=2)\n",
    "        self.conv6 = nn.ConvTranspose2d(16, 3, 6, stride=2, padding=2)\n",
    "\n",
    "\n",
    "    def encode(self,x):\n",
    "        #print(x.shape)\n",
    "        a1 = F.relu(self.conv1(x))\n",
    "        #print(a1.shape)\n",
    "        a2 = F.relu(self.conv2(a1))\n",
    "        #print(a2.shape)\n",
    "        a3 = F.relu(self.conv3(a2))\n",
    "        #print(a3.shape)\n",
    "        mx_poold = self.max_pool(a3)\n",
    "        #print(mx_poold.shape)\n",
    "        a_reshaped = mx_poold.reshape(-1, 8 * 8 * 8 )\n",
    "        #print(a_reshaped.shape)\n",
    "\n",
    "        a_mu = self.fc1_mu(a_reshaped)\n",
    "        #print(a_mu.shape)\n",
    "        a_logvar = self.fc1_sig(a_reshaped)\n",
    "        \n",
    "        return a_mu, a_logvar\n",
    "\n",
    "    def decode(self,z):\n",
    "        a3 = F.relu(self.fc2(z))\n",
    "        #print(a3.shape)\n",
    "        a3 = a3.reshape(-1, 8, 8, 8)\n",
    "        #print(a3.shape)\n",
    "        a3_upsample = self.up_sample(a3)\n",
    "        #print(a3_upsample.shape)\n",
    "        a4 = F.relu(self.conv4(a3_upsample))\n",
    "        #print(a4.shape)\n",
    "        a5 = F.relu(self.conv5(a4))\n",
    "        #print(a5.shape)\n",
    "        a6 = torch.sigmoid(self.conv6(a5))\n",
    "        #print(a6.shape)\n",
    "        return a6\n",
    "\n",
    "    def reparameterize(self, mu, logvar):\n",
    "        std = torch.exp(0.5*logvar)\n",
    "        eps = torch.randn_like(std)\n",
    "        return eps.mul(std).add_(mu)\n",
    "\n",
    "    def forward(self,x):\n",
    "        #print(x.shape)\n",
    "        mu, logvar = self.encode(x)\n",
    "        z = self.reparameterize(mu, logvar)\n",
    "        return self.decode(z), mu, logvar"
   ]
  },
  {
   "cell_type": "code",
   "execution_count": null,
   "metadata": {
    "colab": {
     "base_uri": "https://localhost:8080/"
    },
    "executionInfo": {
     "elapsed": 581,
     "status": "ok",
     "timestamp": 1657845382201,
     "user": {
      "displayName": "mower草刈り機",
      "userId": "09626583737451195202"
     },
     "user_tz": -540
    },
    "id": "ZM7gYMZgfTYc",
    "outputId": "2a7f74d8-e335-411c-b628-54d1a60d6f35"
   },
   "outputs": [],
   "source": [
    "\n",
    "model = Net()  \n",
    "model = model.to(device)\n",
    "optimizer = optim.Adam(model.parameters(), lr=1e-3)\n"
   ]
  },
  {
   "cell_type": "code",
   "execution_count": null,
   "metadata": {},
   "outputs": [],
   "source": [
    "model"
   ]
  },
  {
   "cell_type": "code",
   "execution_count": null,
   "metadata": {
    "executionInfo": {
     "elapsed": 3,
     "status": "ok",
     "timestamp": 1657830065688,
     "user": {
      "displayName": "mower草刈り機",
      "userId": "09626583737451195202"
     },
     "user_tz": -540
    },
    "id": "GpC2ucO0y4Pe"
   },
   "outputs": [],
   "source": [
    "def loss_function(recon_x, x, mu, logvar):\n",
    "    BCE = F.binary_cross_entropy(recon_x, x, reduction='sum')\n",
    "\n",
    "    KLD = -0.5 * torch.sum(1 + logvar - mu.pow(2) - logvar.exp())#pow=2乗 exp()=自然対数の底\n",
    "\n",
    "    return BCE + KLD"
   ]
  },
  {
   "cell_type": "code",
   "execution_count": null,
   "metadata": {
    "colab": {
     "base_uri": "https://localhost:8080/",
     "height": 1000,
     "referenced_widgets": [
      "c95061108b874d81aaa44c8b60aff903",
      "9292b62db49940f797a761360899fe9e",
      "e61618bc1aa945569bf17ddb089cf0b9",
      "4d376d766ab247e8b3757bd3c22f4ac7",
      "aab5ae785200445f96ae7e4b1c9a0348",
      "05f0c6b554fc462ab708610eb7d95f71",
      "f312e769bdf54f6abaeb2a334fc9ca3f",
      "f7f97ba718ce473594168edfb5c7f001",
      "a42d55f135774148a0c0bf928db96852",
      "63ff43cec7f741d588600fda0b92aa1b",
      "89622a87fc97439f9e6cfa8062b35e5e"
     ]
    },
    "executionInfo": {
     "elapsed": 5924695,
     "status": "ok",
     "timestamp": 1657836063338,
     "user": {
      "displayName": "mower草刈り機",
      "userId": "09626583737451195202"
     },
     "user_tz": -540
    },
    "id": "MxHRgvxz6daF",
    "outputId": "15cb4bf4-b261-43d0-bcb4-508b1fe1f0f5"
   },
   "outputs": [],
   "source": [
    "num_epochs = 10000 #学習回数\n",
    "print_per = 100\n",
    "model.train()\n",
    "\n",
    "t_delta = datetime.timedelta(hours=9)\n",
    "JST = datetime.timezone(t_delta, 'JST')\n",
    "now = datetime.datetime.now(JST)\n",
    "d_dir = now.strftime('%Y%m%d%H%M%S')\n",
    "\n",
    "os.mkdir(\"{}/model/{}\".format(headder,d_dir))\n",
    "loss_data = []\n",
    "\n",
    "for epoch in tqdm(range(num_epochs)):\n",
    "    train_loss = 0\n",
    "    print_loss = 0\n",
    "    loss_record = []\n",
    "    \n",
    "    t_delta = datetime.timedelta(hours=9)\n",
    "    JST = datetime.timezone(t_delta, 'JST')\n",
    "    now = datetime.datetime.now(JST)\n",
    "    d = now.strftime('%Y%m%d%H%M%S')\n",
    "    \n",
    "    for i, (images) in enumerate(dataloader):\n",
    "        \n",
    "        optimizer.zero_grad()\n",
    "        images = images[0].to(device)\n",
    "        \n",
    "        recon_batch, mu, logvar = model(images)\n",
    "        pred = model(images)\n",
    "\n",
    "        loss = loss_function(recon_batch, images, mu, logvar)\n",
    "        loss.backward()\n",
    "        train_loss += loss.item()\n",
    "        print_loss += loss.item()\n",
    "        optimizer.step()\n",
    "\n",
    "        if (i%print_per == 0):\n",
    "            #print(\"Epoch : {} , Minibatch : {} Loss = {:.4f}\".format(epoch+1, i, print_loss))\n",
    "            loss_record.append(print_loss)\n",
    "            print_loss = 0\n",
    "            \n",
    "    if epoch%10 == 0:\n",
    "        print(\"Epoch {} : Loss = ({:.4f}) \".format(epoch+1, train_loss))\n",
    "        \n",
    "        fig=plt.figure(figsize=(24, 12))\n",
    "\n",
    "        for num,img in enumerate(images):\n",
    "\n",
    "            fig.add_subplot(1,len(images), num+1)\n",
    "            plt.imshow(img.cpu().data.numpy().swapaxes(0,2))    \n",
    "        plt.show()\n",
    "            \n",
    "        a = model(images.to(device))\n",
    "        fig=plt.figure(figsize=(24, 12))\n",
    "\n",
    "        for num,img in enumerate(a[0]):\n",
    "\n",
    "            fig.add_subplot(1,len(a[0]), num+1)\n",
    "            plt.imshow(img.cpu().data.numpy().swapaxes(0,2))       \n",
    "        plt.show()\n",
    "            \n",
    "    if epoch%100 == 0:\n",
    "        torch.save(model.state_dict(), \"{}/model/{}/{}_{}_.pth\".format(headder,d_dir,d,epoch))\n",
    "       \n",
    "    \n",
    "    loss_data.append(train_loss)\n",
    "    #print(\"Epoch {} : Loss = ({:.4f}) \".format(epoch+1, train_loss))\n",
    "    plt.plot(loss_data)\n",
    "    plt.show()"
   ]
  },
  {
   "cell_type": "code",
   "execution_count": null,
   "metadata": {
    "colab": {
     "base_uri": "https://localhost:8080/"
    },
    "executionInfo": {
     "elapsed": 971,
     "status": "ok",
     "timestamp": 1657845556926,
     "user": {
      "displayName": "mower草刈り機",
      "userId": "09626583737451195202"
     },
     "user_tz": -540
    },
    "id": "FxiEcWp9SrF2",
    "outputId": "2247bd7c-7bd7-4ec9-89ed-5840f4b95968"
   },
   "outputs": [],
   "source": [
    "model_path = '{}/model/{}/{}'.format(headder,\"20220719174322\",\"20220720204159_8200_.pth\")\n",
    "model = Net()\n",
    "model = model.to(device)\n",
    "optimizer = optim.Adam(model.parameters(), lr=1e-3)\n",
    "\n",
    "model.load_state_dict(torch.load(model_path))"
   ]
  },
  {
   "cell_type": "code",
   "execution_count": null,
   "metadata": {
    "colab": {
     "base_uri": "https://localhost:8080/",
     "height": 1000
    },
    "executionInfo": {
     "elapsed": 11984,
     "status": "ok",
     "timestamp": 1657845573117,
     "user": {
      "displayName": "mower草刈り機",
      "userId": "09626583737451195202"
     },
     "user_tz": -540
    },
    "id": "3tGAYtglKixO",
    "outputId": "fb7a96d7-80cc-447b-a91a-e3596cc64603",
    "scrolled": true
   },
   "outputs": [],
   "source": [
    "for b in dataloader:\n",
    "    fig=plt.figure(figsize=(24, 12))\n",
    "    for num,img in enumerate(b[0]):\n",
    "        \n",
    "        fig.add_subplot(1,len(b[0]), num+1)\n",
    "        plt.imshow(img.cpu().numpy().swapaxes(0,2))\n",
    "        \n",
    "    break\n",
    "\n",
    "for i, (inputs, _) in enumerate(dataloader, 0):\n",
    "    \n",
    "    a = model(inputs.to(device))\n",
    "    fig=plt.figure(figsize=(24, 12))\n",
    "  \n",
    "    for num,img in enumerate(a[0]):\n",
    "    \n",
    "        fig.add_subplot(1,len(a[0]), num+1)\n",
    "        plt.imshow(img.cpu().data.numpy().swapaxes(0,2))\n",
    "  \n",
    "    break\n",
    "    \n",
    "for i, (inputs, _) in enumerate(dataloader, 0):\n",
    "    a = model(inputs.to(device))\n",
    "    fig=plt.figure(figsize=(24, 12))\n",
    "  \n",
    "    for num,img in enumerate(a[0]):\n",
    "    \n",
    "        fig.add_subplot(1,len(a[0]), num+1)\n",
    "        imim = img.cpu().data.numpy().swapaxes(0,2) - inputs[num].cpu().data.numpy().swapaxes(0,2) \n",
    "        imim = np.clip(a=imim, a_min=0, a_max=1)\n",
    "        \n",
    "        #imim = np.asarray(imim, dtype = int)\n",
    "        plt.imshow(imim)\n",
    "  \n",
    "    break\n",
    "\n",
    "\n",
    "for b in test_dataloader:\n",
    "    fig=plt.figure(figsize=(24, 12))\n",
    "    for num,img in enumerate(b[0]):\n",
    "        fig.add_subplot(1,len(b[0]), num+1)\n",
    "        plt.imshow(img.cpu().numpy().swapaxes(0,2))\n",
    "\n",
    "\n",
    "for i, (inputs, _) in enumerate(test_dataloader, 0):\n",
    "    a = model(inputs.to(device))\n",
    "    fig=plt.figure(figsize=(24, 12))\n",
    "    \n",
    "    for num,img in enumerate(a[0]):\n",
    "    \n",
    "        fig.add_subplot(1,len(a[0]), num+1)\n",
    "        plt.imshow(img.cpu().data.numpy().swapaxes(0,2))\n",
    "        #plt.imshow(inputs[num].cpu().data.numpy().swapaxes(0,2))\n",
    "        \n",
    "for i, (inputs, _) in enumerate(test_dataloader, 0):\n",
    "    a = model(inputs.to(device))\n",
    "    fig=plt.figure(figsize=(24, 12))\n",
    "    \n",
    "    for num,img in enumerate(a[0]):\n",
    "    \n",
    "        fig.add_subplot(1,len(a[0]), num+1)\n",
    "        \n",
    "        #imim = inputs[num].cpu().data.numpy().swapaxes(0,2) - img.cpu().data.numpy().swapaxes(0,2)  \n",
    "        imim = inputs[num].cpu().data.numpy().swapaxes(0,2)   - img.cpu().data.numpy().swapaxes(0,2)  \n",
    "        imim = np.clip(a=imim, a_min=0, a_max=1)\n",
    "        \n",
    "        #imim = np.asarray(imim, dtype = int)\n",
    "        plt.imshow(imim)"
   ]
  },
  {
   "cell_type": "code",
   "execution_count": null,
   "metadata": {},
   "outputs": [],
   "source": [
    "import seaborn as sns\n",
    "import pandas as pd\n",
    "import numpy as np\n",
    "import matplotlib as mpl\n",
    "import matplotlib.pyplot as plt"
   ]
  },
  {
   "cell_type": "code",
   "execution_count": null,
   "metadata": {},
   "outputs": [],
   "source": [
    "for i, (inputs, _) in enumerate(dataloader, 0):\n",
    "    a = model(inputs.to(device))\n",
    "    fig=plt.figure(figsize=(24, 12))\n",
    "    \n",
    "    for num,img in enumerate(a[0]):\n",
    "    \n",
    "        fig.add_subplot(1,len(a[0]), num+1)\n",
    "        \n",
    "        #imim = inputs[num].cpu().data.numpy().swapaxes(0,2) - img.cpu().data.numpy().swapaxes(0,2)  \n",
    "        imim = inputs[num].cpu().data.numpy() - img.cpu().data.numpy() \n",
    "        for i in range(3):\n",
    "            a = imim[i]-img.cpu().data.numpy()[i]\n",
    "            plt.figure()\n",
    "            sns.heatmap(a, cmap='bwr')\n",
    "            plt.show()\n",
    "        print(\"#################\")\n",
    "        \n",
    "    break"
   ]
  },
  {
   "cell_type": "code",
   "execution_count": null,
   "metadata": {},
   "outputs": [],
   "source": [
    "for i, (inputs, _) in enumerate(test_dataloader, 0):\n",
    "    a = model(inputs.to(device))\n",
    "    fig=plt.figure(figsize=(24, 12))\n",
    "    \n",
    "    for num,img in enumerate(a[0]):\n",
    "    \n",
    "        fig.add_subplot(1,len(a[0]), num+1)\n",
    "        \n",
    "        #imim = inputs[num].cpu().data.numpy().swapaxes(0,2) - img.cpu().data.numpy().swapaxes(0,2)  \n",
    "        imim = inputs[num].cpu().data.numpy() - img.cpu().data.numpy() \n",
    "        \n",
    "        for i in range(3):\n",
    "            a = imim[i]-img.cpu().data.numpy()[i]\n",
    "            plt.figure()\n",
    "            \"\"\"\n",
    "            sns.heatmap(imim[i], cmap='bwr')\n",
    "            plt.show()\n",
    "            sns.heatmap(img.cpu().data.numpy()[i], cmap='bwr')\n",
    "            plt.show()\"\"\"\n",
    "            sns.heatmap(a, cmap='bwr')\n",
    "            plt.show()\n",
    "        print(\"#################\")\n"
   ]
  },
  {
   "cell_type": "code",
   "execution_count": null,
   "metadata": {},
   "outputs": [],
   "source": [
    "imim.shape"
   ]
  },
  {
   "cell_type": "code",
   "execution_count": null,
   "metadata": {},
   "outputs": [],
   "source": [
    "from alibi_detect.od import OutlierVAE"
   ]
  },
  {
   "cell_type": "code",
   "execution_count": null,
   "metadata": {
    "id": "pqWXYKCZ6dOp"
   },
   "outputs": [],
   "source": []
  }
 ],
 "metadata": {
  "accelerator": "GPU",
  "colab": {
   "authorship_tag": "ABX9TyPbv6IqSJS9/Nevmc+XhNf7",
   "collapsed_sections": [],
   "mount_file_id": "1Ksjw3o8LK9aPROcaqu00YtdfcqCWon0T",
   "name": "VAE_mnist.ipynb",
   "provenance": [
    {
     "file_id": "1kY1W4EvWAOg6yooI8qFaEnLLnsAwfp_m",
     "timestamp": 1657376972836
    }
   ]
  },
  "gpuClass": "standard",
  "kernelspec": {
   "display_name": "Python 3 (ipykernel)",
   "language": "python",
   "name": "python3"
  },
  "language_info": {
   "codemirror_mode": {
    "name": "ipython",
    "version": 3
   },
   "file_extension": ".py",
   "mimetype": "text/x-python",
   "name": "python",
   "nbconvert_exporter": "python",
   "pygments_lexer": "ipython3",
   "version": "3.7.13"
  },
  "vscode": {
   "interpreter": {
    "hash": "0f8d9d5cdf1c6556960a6c4698638dde344c10951e484eaab187bdb0b7aa66ff"
   }
  },
  "widgets": {
   "application/vnd.jupyter.widget-state+json": {
    "05f0c6b554fc462ab708610eb7d95f71": {
     "model_module": "@jupyter-widgets/base",
     "model_module_version": "1.2.0",
     "model_name": "LayoutModel",
     "state": {
      "_model_module": "@jupyter-widgets/base",
      "_model_module_version": "1.2.0",
      "_model_name": "LayoutModel",
      "_view_count": null,
      "_view_module": "@jupyter-widgets/base",
      "_view_module_version": "1.2.0",
      "_view_name": "LayoutView",
      "align_content": null,
      "align_items": null,
      "align_self": null,
      "border": null,
      "bottom": null,
      "display": null,
      "flex": null,
      "flex_flow": null,
      "grid_area": null,
      "grid_auto_columns": null,
      "grid_auto_flow": null,
      "grid_auto_rows": null,
      "grid_column": null,
      "grid_gap": null,
      "grid_row": null,
      "grid_template_areas": null,
      "grid_template_columns": null,
      "grid_template_rows": null,
      "height": null,
      "justify_content": null,
      "justify_items": null,
      "left": null,
      "margin": null,
      "max_height": null,
      "max_width": null,
      "min_height": null,
      "min_width": null,
      "object_fit": null,
      "object_position": null,
      "order": null,
      "overflow": null,
      "overflow_x": null,
      "overflow_y": null,
      "padding": null,
      "right": null,
      "top": null,
      "visibility": null,
      "width": null
     }
    },
    "4d376d766ab247e8b3757bd3c22f4ac7": {
     "model_module": "@jupyter-widgets/controls",
     "model_module_version": "1.5.0",
     "model_name": "HTMLModel",
     "state": {
      "_dom_classes": [],
      "_model_module": "@jupyter-widgets/controls",
      "_model_module_version": "1.5.0",
      "_model_name": "HTMLModel",
      "_view_count": null,
      "_view_module": "@jupyter-widgets/controls",
      "_view_module_version": "1.5.0",
      "_view_name": "HTMLView",
      "description": "",
      "description_tooltip": null,
      "layout": "IPY_MODEL_63ff43cec7f741d588600fda0b92aa1b",
      "placeholder": "​",
      "style": "IPY_MODEL_89622a87fc97439f9e6cfa8062b35e5e",
      "value": " 2000/2000 [1:38:42&lt;00:00,  2.94s/it]"
     }
    },
    "63ff43cec7f741d588600fda0b92aa1b": {
     "model_module": "@jupyter-widgets/base",
     "model_module_version": "1.2.0",
     "model_name": "LayoutModel",
     "state": {
      "_model_module": "@jupyter-widgets/base",
      "_model_module_version": "1.2.0",
      "_model_name": "LayoutModel",
      "_view_count": null,
      "_view_module": "@jupyter-widgets/base",
      "_view_module_version": "1.2.0",
      "_view_name": "LayoutView",
      "align_content": null,
      "align_items": null,
      "align_self": null,
      "border": null,
      "bottom": null,
      "display": null,
      "flex": null,
      "flex_flow": null,
      "grid_area": null,
      "grid_auto_columns": null,
      "grid_auto_flow": null,
      "grid_auto_rows": null,
      "grid_column": null,
      "grid_gap": null,
      "grid_row": null,
      "grid_template_areas": null,
      "grid_template_columns": null,
      "grid_template_rows": null,
      "height": null,
      "justify_content": null,
      "justify_items": null,
      "left": null,
      "margin": null,
      "max_height": null,
      "max_width": null,
      "min_height": null,
      "min_width": null,
      "object_fit": null,
      "object_position": null,
      "order": null,
      "overflow": null,
      "overflow_x": null,
      "overflow_y": null,
      "padding": null,
      "right": null,
      "top": null,
      "visibility": null,
      "width": null
     }
    },
    "89622a87fc97439f9e6cfa8062b35e5e": {
     "model_module": "@jupyter-widgets/controls",
     "model_module_version": "1.5.0",
     "model_name": "DescriptionStyleModel",
     "state": {
      "_model_module": "@jupyter-widgets/controls",
      "_model_module_version": "1.5.0",
      "_model_name": "DescriptionStyleModel",
      "_view_count": null,
      "_view_module": "@jupyter-widgets/base",
      "_view_module_version": "1.2.0",
      "_view_name": "StyleView",
      "description_width": ""
     }
    },
    "9292b62db49940f797a761360899fe9e": {
     "model_module": "@jupyter-widgets/controls",
     "model_module_version": "1.5.0",
     "model_name": "HTMLModel",
     "state": {
      "_dom_classes": [],
      "_model_module": "@jupyter-widgets/controls",
      "_model_module_version": "1.5.0",
      "_model_name": "HTMLModel",
      "_view_count": null,
      "_view_module": "@jupyter-widgets/controls",
      "_view_module_version": "1.5.0",
      "_view_name": "HTMLView",
      "description": "",
      "description_tooltip": null,
      "layout": "IPY_MODEL_05f0c6b554fc462ab708610eb7d95f71",
      "placeholder": "​",
      "style": "IPY_MODEL_f312e769bdf54f6abaeb2a334fc9ca3f",
      "value": "100%"
     }
    },
    "a42d55f135774148a0c0bf928db96852": {
     "model_module": "@jupyter-widgets/controls",
     "model_module_version": "1.5.0",
     "model_name": "ProgressStyleModel",
     "state": {
      "_model_module": "@jupyter-widgets/controls",
      "_model_module_version": "1.5.0",
      "_model_name": "ProgressStyleModel",
      "_view_count": null,
      "_view_module": "@jupyter-widgets/base",
      "_view_module_version": "1.2.0",
      "_view_name": "StyleView",
      "bar_color": null,
      "description_width": ""
     }
    },
    "aab5ae785200445f96ae7e4b1c9a0348": {
     "model_module": "@jupyter-widgets/base",
     "model_module_version": "1.2.0",
     "model_name": "LayoutModel",
     "state": {
      "_model_module": "@jupyter-widgets/base",
      "_model_module_version": "1.2.0",
      "_model_name": "LayoutModel",
      "_view_count": null,
      "_view_module": "@jupyter-widgets/base",
      "_view_module_version": "1.2.0",
      "_view_name": "LayoutView",
      "align_content": null,
      "align_items": null,
      "align_self": null,
      "border": null,
      "bottom": null,
      "display": null,
      "flex": null,
      "flex_flow": null,
      "grid_area": null,
      "grid_auto_columns": null,
      "grid_auto_flow": null,
      "grid_auto_rows": null,
      "grid_column": null,
      "grid_gap": null,
      "grid_row": null,
      "grid_template_areas": null,
      "grid_template_columns": null,
      "grid_template_rows": null,
      "height": null,
      "justify_content": null,
      "justify_items": null,
      "left": null,
      "margin": null,
      "max_height": null,
      "max_width": null,
      "min_height": null,
      "min_width": null,
      "object_fit": null,
      "object_position": null,
      "order": null,
      "overflow": null,
      "overflow_x": null,
      "overflow_y": null,
      "padding": null,
      "right": null,
      "top": null,
      "visibility": null,
      "width": null
     }
    },
    "c95061108b874d81aaa44c8b60aff903": {
     "model_module": "@jupyter-widgets/controls",
     "model_module_version": "1.5.0",
     "model_name": "HBoxModel",
     "state": {
      "_dom_classes": [],
      "_model_module": "@jupyter-widgets/controls",
      "_model_module_version": "1.5.0",
      "_model_name": "HBoxModel",
      "_view_count": null,
      "_view_module": "@jupyter-widgets/controls",
      "_view_module_version": "1.5.0",
      "_view_name": "HBoxView",
      "box_style": "",
      "children": [
       "IPY_MODEL_9292b62db49940f797a761360899fe9e",
       "IPY_MODEL_e61618bc1aa945569bf17ddb089cf0b9",
       "IPY_MODEL_4d376d766ab247e8b3757bd3c22f4ac7"
      ],
      "layout": "IPY_MODEL_aab5ae785200445f96ae7e4b1c9a0348"
     }
    },
    "e61618bc1aa945569bf17ddb089cf0b9": {
     "model_module": "@jupyter-widgets/controls",
     "model_module_version": "1.5.0",
     "model_name": "FloatProgressModel",
     "state": {
      "_dom_classes": [],
      "_model_module": "@jupyter-widgets/controls",
      "_model_module_version": "1.5.0",
      "_model_name": "FloatProgressModel",
      "_view_count": null,
      "_view_module": "@jupyter-widgets/controls",
      "_view_module_version": "1.5.0",
      "_view_name": "ProgressView",
      "bar_style": "success",
      "description": "",
      "description_tooltip": null,
      "layout": "IPY_MODEL_f7f97ba718ce473594168edfb5c7f001",
      "max": 2000,
      "min": 0,
      "orientation": "horizontal",
      "style": "IPY_MODEL_a42d55f135774148a0c0bf928db96852",
      "value": 2000
     }
    },
    "f312e769bdf54f6abaeb2a334fc9ca3f": {
     "model_module": "@jupyter-widgets/controls",
     "model_module_version": "1.5.0",
     "model_name": "DescriptionStyleModel",
     "state": {
      "_model_module": "@jupyter-widgets/controls",
      "_model_module_version": "1.5.0",
      "_model_name": "DescriptionStyleModel",
      "_view_count": null,
      "_view_module": "@jupyter-widgets/base",
      "_view_module_version": "1.2.0",
      "_view_name": "StyleView",
      "description_width": ""
     }
    },
    "f7f97ba718ce473594168edfb5c7f001": {
     "model_module": "@jupyter-widgets/base",
     "model_module_version": "1.2.0",
     "model_name": "LayoutModel",
     "state": {
      "_model_module": "@jupyter-widgets/base",
      "_model_module_version": "1.2.0",
      "_model_name": "LayoutModel",
      "_view_count": null,
      "_view_module": "@jupyter-widgets/base",
      "_view_module_version": "1.2.0",
      "_view_name": "LayoutView",
      "align_content": null,
      "align_items": null,
      "align_self": null,
      "border": null,
      "bottom": null,
      "display": null,
      "flex": null,
      "flex_flow": null,
      "grid_area": null,
      "grid_auto_columns": null,
      "grid_auto_flow": null,
      "grid_auto_rows": null,
      "grid_column": null,
      "grid_gap": null,
      "grid_row": null,
      "grid_template_areas": null,
      "grid_template_columns": null,
      "grid_template_rows": null,
      "height": null,
      "justify_content": null,
      "justify_items": null,
      "left": null,
      "margin": null,
      "max_height": null,
      "max_width": null,
      "min_height": null,
      "min_width": null,
      "object_fit": null,
      "object_position": null,
      "order": null,
      "overflow": null,
      "overflow_x": null,
      "overflow_y": null,
      "padding": null,
      "right": null,
      "top": null,
      "visibility": null,
      "width": null
     }
    }
   }
  }
 },
 "nbformat": 4,
 "nbformat_minor": 1
}
